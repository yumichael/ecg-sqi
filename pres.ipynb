{
 "cells": [
  {
   "cell_type": "markdown",
   "metadata": {
    "slideshow": {
     "slide_type": "slide"
    }
   },
   "source": [
    "# Signal Quality of ECG sensors\n",
    "\n"
   ]
  },
  {
   "cell_type": "markdown",
   "metadata": {
    "slideshow": {
     "slide_type": "slide"
    }
   },
   "source": [
    "## The 12-lead ECG\n",
    "\n",
    "|<img src=\"https://upload.wikimedia.org/wikipedia/commons/c/c9/Limb_leads.svg\" width=\"500\" />|<img src=\"https://upload.wikimedia.org/wikipedia/commons/4/41/Precordial_leads_in_ECG.png\" width=\"300\" />|\n",
    "|---|---|\n",
    "|<img src=\"https://upload.wikimedia.org/wikipedia/commons/1/19/Limb_leads_of_EKG.png\" width=\"500\" />|<img src=\"https://upload.wikimedia.org/wikipedia/commons/0/0e/EKG_leads.png\" width=\"300\" />|"
   ]
  },
  {
   "cell_type": "markdown",
   "metadata": {},
   "source": [
    "## Data\n",
    "\n",
    "[**PhysioNet/Computing in Cardiology Challenge 2011**](https://physionet.org/challenge/2011/)\n",
    "\n",
    "#### Training Set A\n",
    "1000 counts of 10 second long 12-lead ECG records.  \n",
    "Acceptable/unacceptable quality labels available\n",
    "\n",
    "#### Training Set B\n",
    "500 counts of 10 second long 12-lead ECG records.  \n",
    "Quality labels not publicly available.  \n",
    "** *not used**"
   ]
  },
  {
   "cell_type": "code",
   "execution_count": null,
   "metadata": {
    "collapsed": true
   },
   "outputs": [],
   "source": []
  },
  {
   "cell_type": "markdown",
   "metadata": {
    "slideshow": {
     "slide_type": "slide"
    }
   },
   "source": [
    "**Dimensionality reduction: A comparative review**  \n",
    "LJP Van der Maaten, EO Postma, HJ Van den Herik  \n",
    "(2009) Technical Report TiCC TR 2009-005\n",
    "\n",
    "**Common manifold learning using alternating-diffusion**  \n",
    "RR Lederman, R Talmon  \n",
    "(2014) Yale University, New Haven, CT, USA, Tech. Rep. YALEU/DCS/TR-1497\n",
    "\n",
    "**Out-of-sample extensions for lle, isomap, mds, eigenmaps, and spectral clustering** \n",
    "Y Bengio, JF Paiement, P Vincent, O Delalleau, N Le Roux, M Ouimet  \n",
    "(2004) Advances in neural information processing systems 16, 177-184"
   ]
  },
  {
   "cell_type": "markdown",
   "metadata": {},
   "source": []
  }
 ],
 "metadata": {
  "anaconda-cloud": {},
  "celltoolbar": "Slideshow",
  "kernelspec": {
   "display_name": "Python [default]",
   "language": "python",
   "name": "python3"
  },
  "language_info": {
   "codemirror_mode": {
    "name": "ipython",
    "version": 3
   },
   "file_extension": ".py",
   "mimetype": "text/x-python",
   "name": "python",
   "nbconvert_exporter": "python",
   "pygments_lexer": "ipython3",
   "version": "3.5.2"
  }
 },
 "nbformat": 4,
 "nbformat_minor": 2
}
