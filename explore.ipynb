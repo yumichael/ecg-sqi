{
 "cells": [
  {
   "cell_type": "code",
   "execution_count": 8,
   "metadata": {
    "collapsed": false
   },
   "outputs": [],
   "source": [
    "from pathlib import Path\n",
    "import requests\n",
    "import tarfile\n",
    "\n",
    "data_dir = Path('./cinc2011/')\n",
    "def get_tar_data(url):\n",
    "    file_loc = data_dir / url.split('/')[-1]\n",
    "    r = requests.get(url)\n",
    "    with file_loc.open('wb') as f:\n",
    "        for chunk in r.iter_content(chunk_size=1024): \n",
    "            if chunk: # filter out keep-alive new chunks\n",
    "                f.write(chunk)\n",
    "    tarfile.open(str(file_loc)).extractall(str(data_dir))\n",
    "    return\n",
    "get_tar_data('https://physionet.org/physiobank/database/challenge/2011/set-a.tar.gz')\n",
    "get_tar_data('https://physionet.org/physiobank/database/challenge/2011/set-b.tar.gz')\n"
   ]
  },
  {
   "cell_type": "code",
   "execution_count": 4,
   "metadata": {
    "collapsed": false
   },
   "outputs": [
    {
     "name": "stdout",
     "output_type": "stream",
     "text": [
      "cinc2011/ee\n"
     ]
    }
   ],
   "source": [
    "print(data_dir / 'ee')"
   ]
  }
 ],
 "metadata": {
  "anaconda-cloud": {},
  "kernelspec": {
   "display_name": "Python [default]",
   "language": "python",
   "name": "python3"
  },
  "language_info": {
   "codemirror_mode": {
    "name": "ipython",
    "version": 3
   },
   "file_extension": ".py",
   "mimetype": "text/x-python",
   "name": "python",
   "nbconvert_exporter": "python",
   "pygments_lexer": "ipython3",
   "version": "3.5.2"
  }
 },
 "nbformat": 4,
 "nbformat_minor": 1
}
